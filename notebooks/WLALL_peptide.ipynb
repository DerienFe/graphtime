{
 "cells": [
  {
   "cell_type": "markdown",
   "metadata": {},
   "source": [
    "## Generate WLALL figure from manuscript\n",
    "\n",
    "Simon Olsson 2018\n",
    "\n",
    "Featurizes and analyses 24 trajectories of the WLALL peptide (25 trajectories in the original data-set). One trajectory (15) is left out as a rare event is happening in the first tens of nano-second in this trajectory which is not reversibly sampled. \n",
    "\n",
    "Generates manuscript figure for WLALL peptide.\n",
    "\n",
    "Please note, since this notebook makes use of random sampling for error-estimation, exact reproduction cannot be expected. The notebook requires internet access, as primary data is downloaded. Complete execution of the notebook may vary between tens of minutes to hours depending on available hardware, speed internet connectivity and server load."
   ]
  },
  {
   "cell_type": "code",
   "execution_count": null,
   "metadata": {},
   "outputs": [],
   "source": [
    "%matplotlib inline\n",
    "import mdtraj as md\n",
    "import matplotlib.pyplot as plt\n",
    "import matplotlib.gridspec as gridspec\n",
    "import mdshare\n",
    "import matplotlib as mpl\n",
    "import numpy as np\n",
    "import pyemma as pe\n",
    "import msmtools\n",
    "from sklearn.preprocessing import LabelBinarizer\n",
    "\n",
    "from graphtime import markov_random_fields\n",
    "from graphtime import utils as _ut\n",
    "\n",
    "double_column_width = 6.968\n",
    "single_column_width= 3.307\n",
    "font = {'sans-serif': \"Arial\",\n",
    "        'family': \"sans-serif\",\n",
    "  'size'   : 8}\n",
    "\n",
    "\n",
    "mpl.rc('font', **font)\n",
    "mpl.rcParams['mathtext.fontset'] = 'custom'"
   ]
  },
  {
   "cell_type": "markdown",
   "metadata": {},
   "source": [
    "Load and prepare data for model estimation"
   ]
  },
  {
   "cell_type": "code",
   "execution_count": null,
   "metadata": {},
   "outputs": [],
   "source": [
    "def to_red_tmat(Tfull, dtrajs_):\n",
    "    \"\"\" \n",
    "        Slices out a sub-matrix of Tfull consistent with states observed in dtrajs_ \n",
    "        and renormalizes the sub-matrix to yield a transition matrix on the subset.\n",
    "    \"\"\"\n",
    "    tft=Tfull[np.array(list(set(np.ravel(dtrajs_)))), :][:, np.array(list(set(np.ravel(dtrajs_))))].copy()\n",
    "    return tft/tft.sum(axis=1)[:, None]\n",
    "\n",
    "def discr_feats(ftrajs, feat_describe):\n",
    "    discr_trajs = []\n",
    "    for ft in ftrajs:\n",
    "        dftraj = np.zeros(ft.shape, dtype = int)\n",
    "        for i, fstr in enumerate(feat_describe):\n",
    "            ls = fstr.split()\n",
    "            if fstr[:3] == \"PHI\": # split into two states\n",
    "                dftraj[:, i] = (ft[:, i]<0).astype(int)\n",
    "            elif fstr[:3] == \"PSI\": # split in to two states if not n-terminal\n",
    "                if int(ls[-1]) == 1:\n",
    "                    dftraj[:, i] = -1\n",
    "                else:\n",
    "                    dftraj[:, i] = (ft[:, i]<80).astype(int)\n",
    "            elif fstr[:3] == \"CHI\": #split into 3 rotamers\n",
    "                tv = (ft[:, i]+180+60)%360\n",
    "                dftraj[:, i] = (tv>125).astype(int) + (tv>250).astype(int)  \n",
    "        non_n_psi = np.where(dftraj[0, :]>-1)[0]    \n",
    "        discr_trajs.append(dftraj.copy()[:,non_n_psi])\n",
    "    return discr_trajs, [f for i,f in enumerate(feat_describe) if i in non_n_psi]\n",
    "\n",
    "\n",
    "def featurize(X):\n",
    "    dts=[]\n",
    "    for x in X:\n",
    "        dts.append ([int(''.join(map(str, f)), 2) for f in x])\n",
    "    return dts\n"
   ]
  },
  {
   "cell_type": "code",
   "execution_count": null,
   "metadata": {},
   "outputs": [],
   "source": [
    "pdb = mdshare.fetch('pentapeptide-impl-solv.pdb', working_directory='pentapeptide_data')\n",
    "files = mdshare.fetch('pentapeptide-*-500ns-impl-solv.xtc', working_directory='pentapeptide_data')"
   ]
  },
  {
   "cell_type": "code",
   "execution_count": null,
   "metadata": {},
   "outputs": [],
   "source": [
    "feat = pe.coordinates.featurizer('pentapeptide_data/pentapeptide-impl-solv.pdb')\n",
    "\n",
    "feat.add_backbone_torsions(deg=True)\n",
    "\n",
    "source = pe.coordinates.source([f'pentapeptide_data/pentapeptide-{i:02}-500ns-impl-solv.xtc' for i in range(25)], features=feat)\n",
    "\n",
    "dihe = source.get_output()"
   ]
  },
  {
   "cell_type": "code",
   "execution_count": null,
   "metadata": {},
   "outputs": [],
   "source": [
    "bindihe = [(d<0).astype(int) for d in dihe]"
   ]
  },
  {
   "cell_type": "code",
   "execution_count": null,
   "metadata": {},
   "outputs": [],
   "source": [
    "dfeats, nlbls = discr_feats(dihe, feat.describe())"
   ]
  },
  {
   "cell_type": "markdown",
   "metadata": {},
   "source": [
    "Estimate Markov state models and Dynamic graphical models for multiple lag-times."
   ]
  },
  {
   "cell_type": "code",
   "execution_count": null,
   "metadata": {},
   "outputs": [],
   "source": [
    "from functools import reduce\n",
    "MRF_MSM = []\n",
    "MSM_MSM = []\n",
    "X = dfeats.copy()\n",
    "\n",
    "idx=np.array([i for i in np.arange(25) if i not in [15]])\n",
    "np.random.shuffle(idx)\n",
    "_x=np.array_split(idx, 5)\n",
    "_I=[np.concatenate([_x[j] for j in range(5) if j!=i]) for i in range(5)]\n",
    "dtrajs_ = featurize(X)\n",
    "\n",
    "lr_kwargs = {'fit_intercept': True, 'penalty': 'l1', 'C': 1.0, 'tol': 0.0001, 'solver': 'saga'} \n",
    "for lag in [2,5,10,15,20,30,50]:\n",
    "    _dmrfs = [markov_random_fields.estimate_dMRF([2*X[i]-1 for i in I], \n",
    "                                                     lag = lag, \n",
    "                                                     Encoder = LabelBinarizer(neg_label = -1, pos_label = 1),\n",
    "                                                     logistic_regression_kwargs = lr_kwargs\n",
    "                                                    ) \n",
    "                  for I in _I]\n",
    "    Ts = [_D.generate_transition_matrix() for _D in _dmrfs ]\n",
    "    bmsm = [pe.msm.estimate_markov_model(dtrajs=[dtrajs_[i] for i in I], lag = lag) for I in _I]\n",
    "    ms_interesection=reduce(np.intersect1d, [m.active_set for m in bmsm ])\n",
    "    bm_as=[np.where(m.active_set==ms_interesection.reshape(-1,1))[1] for m in bmsm ]\n",
    "    \n",
    "    Ts_red = [to_red_tmat(T, [ms_interesection]) for T in Ts]\n",
    "    MRF_MSM.append(Ts_red)\n",
    "    MSM_MSM.append([bmsm, bm_as])"
   ]
  },
  {
   "cell_type": "code",
   "execution_count": null,
   "metadata": {},
   "outputs": [],
   "source": [
    "lag=20\n",
    "_dmrfs = [markov_random_fields.estimate_dMRF([2*X[i]-1 for i in I], \n",
    "                                                 lag = lag, \n",
    "                                                 Encoder = LabelBinarizer(neg_label = -1, pos_label = 1),\n",
    "                                                 logistic_regression_kwargs = lr_kwargs\n",
    "                                                ) \n",
    "              for I in _I]\n",
    "Ts = [_D.generate_transition_matrix() for _D in _dmrfs ]\n",
    "bmsm = [pe.msm.estimate_markov_model(dtrajs=[dtrajs_[i] for i in I], lag = lag) for I in _I]\n",
    "ms_interesection_selected_lag=reduce(np.intersect1d, [m.active_set for m in bmsm ])\n"
   ]
  },
  {
   "cell_type": "markdown",
   "metadata": {},
   "source": [
    "Compute statistics and prepare input for plotting"
   ]
  },
  {
   "cell_type": "code",
   "execution_count": null,
   "metadata": {},
   "outputs": [],
   "source": [
    "import msmtools\n",
    "its_mrf = np.array([msmtools.util.statistics.confidence_interval([msmtools.analysis.timescales(t)[1:7]*l for t in M])  for l,M in zip([2,5,10,15,20,30,50],MRF_MSM)])\n",
    "its_msm = np.array([msmtools.util.statistics.confidence_interval([t.timescales(k=6) for t in M[0]])  for l,M in zip([2,5,10,15,20,30,50],MSM_MSM)])"
   ]
  },
  {
   "cell_type": "code",
   "execution_count": null,
   "metadata": {},
   "outputs": [],
   "source": [
    "bayes_msm = pe.msm.bayesian_markov_model([dt for i, dt in enumerate(dtrajs_) if i!=15], lag = 20)"
   ]
  },
  {
   "cell_type": "code",
   "execution_count": null,
   "metadata": {},
   "outputs": [],
   "source": [
    "bsmts=bayes_msm.sample_mean('timescales')\n",
    "bscts=bayes_msm.sample_conf('timescales')"
   ]
  },
  {
   "cell_type": "code",
   "execution_count": null,
   "metadata": {},
   "outputs": [],
   "source": [
    "\n",
    "statdist_mrf_conf = np.array([msmtools.util.statistics.confidence_interval([msmtools.analysis.statdist(t) for t in M])  for l,M in zip([2,5,10,15,20,30,50],MRF_MSM)])\n",
    "statdist_msm_conf = np.array([msmtools.util.statistics.confidence_interval([t.stationary_distribution[a_s] for t,a_s in zip(*M) ])  for l,M in zip([2,5,10,15,20,30,50],MSM_MSM)])\n",
    "\n",
    "statdist_mrf_avg = np.array([np.mean([msmtools.analysis.statdist(t) for t in M], axis=0)  for l,M in zip([2,5,10,15,20,30,50],MRF_MSM)])\n",
    "statdist_msm_avg = np.array([np.mean([t.stationary_distribution[a_s] for t,a_s in zip(*M) ], axis=0)  for l,M in zip([2,5,10,15,20,30,50],MSM_MSM)])\n",
    "\n",
    "\n",
    "xerr = np.vstack([statdist_mrf_avg[4]-statdist_mrf_conf[4][0], statdist_mrf_conf[4][1]-statdist_mrf_avg[4]])\n",
    "yerr = np.vstack([statdist_msm_avg[4]-statdist_msm_conf[4][0], statdist_msm_conf[4][1]-statdist_msm_avg[4]])\n",
    "    \n",
    "\n",
    "idx = [i for i in np.arange(25) if i not in [15]]\n",
    "np.random.shuffle(idx)\n",
    "\n",
    "bmsm = [pe.msm.estimate_markov_model(dtrajs=[dtrajs_[i][:] for i in idx[:I]], lag = 20) for I in range(1,25)]\n",
    "ms_interesection=reduce(np.intersect1d, [m.active_set for m in bmsm ])\n",
    "bm_as=[np.where(m.active_set==ms_interesection.reshape(-1,1))[1] for m in bmsm ]\n",
    "\n",
    "\n"
   ]
  },
  {
   "cell_type": "code",
   "execution_count": null,
   "metadata": {},
   "outputs": [],
   "source": [
    "fig = plt.figure(figsize=(single_column_width, 2*single_column_width))\n",
    "dt = 0.1\n",
    "gs = gridspec.GridSpec(200, 100,left=0.1,bottom=-0.05,top=1.0,right=1.0, wspace=0.05, hspace=.05)\n",
    "axts = np.array([[plt.subplot(gs[100+i*18+i*12:100+(i+1)*18+i*12, 8+j*35+j*15:8+(j+1)*35+j*15]) for i in range(3)] for j in range(2)]).T\n",
    "axsd = np.array([[plt.subplot(gs[50:80, 8+j*33+j*18:8+(j+1)*33+j*18]) for i in range(1)] for j in range(2)]).T[::-1,:]\n",
    "\n",
    "for i,_ax in enumerate(axts.flatten()[:]):\n",
    "    # confidence intervals of MSM/DGM ITS\n",
    "    _ax.fill_between(np.array([2,5,10,15,20,30,50])*dt,its_msm[:,0,i]*dt, its_msm[:,1,i]*dt,alpha=0.35, label=\"MSM\")\n",
    "    _ax.fill_between(np.array([2,5,10,15,20,30,50])*dt,its_mrf[:,0,i]*dt, its_mrf[:,1,i]*dt,alpha=0.35, label=\"DGM\")\n",
    "    \n",
    "    # Bayesian MSM error-bars\n",
    "    _ax.hlines(bsmts[i]*dt, 19.5*dt,20.5*dt, lw=2, linestyle=\":\")\n",
    "    _ax.fill_between(np.array([19.5,20.5])*dt,bscts[0][i]*np.ones(2)*dt, bscts[1][i]*np.ones(2)*dt,lw=0,alpha=0.35,color='k',label=\"Bayesian MSM\")\n",
    "\n",
    "    #  MSM/DGM ITS\n",
    "    _ax.plot(np.array([2,5,10,15,20,30,50])*dt,np.array([2,5,10,15,20,30,50])*dt, color=\"k\")\n",
    "    _ax.fill_between(np.array([2,5,10,15,20,30,50])*dt,np.zeros(7), np.array([2,5,10,15,20,30,50])*dt, color='k',alpha=0.25,)\n",
    "    _ax.set_ylim([0.5,8])\n",
    "    if i==2:\n",
    "        _ax.set_ylabel(r'implied timescale / $\\mathrm{ns}$')\n",
    "    if i>2:\n",
    "        _ax.set_xlabel(r'lag time $\\tau$ / $\\mathrm{ns}$')\n",
    "    if i==5:\n",
    "        _ax.legend()\n",
    "        _ax.set_ylim(10,20)\n",
    "        _ax.axis('off')\n",
    "    else:\n",
    "        _ax.set_title('implied timescale {:d}'.format(i+1))\n",
    "\n",
    "        \n",
    "colors_ = [plt.cm.viridis(c) for c in np.linspace(0,1,bm_as[0].shape[0])]\n",
    "# Correlate stationary distributions on common sub-sets\n",
    "axsd[0,0].errorbar(statdist_mrf_avg[4],statdist_msm_avg[4], xerr=xerr, yerr=yerr,fmt='.',ms=0,zorder=1,ecolor='k')\n",
    "axsd[0,0].scatter(statdist_mrf_avg[4],statdist_msm_avg[4], s=10, c='m',zorder=10)\n",
    "\n",
    "axsd[0,0].set_xlim(1e-6,2);\n",
    "axsd[0,0].set_ylim(1e-6,2)\n",
    "axsd[0,0].plot([1e-6,2],[1e-6,2], ls=':', color='k')\n",
    "axsd[0,0].set_xlabel(r'dMRF, $\\pi_i$')\n",
    "axsd[0,0].set_ylabel(r'MSM, $\\pi_i$')\n",
    "axsd[0,0].loglog()\n",
    "\n",
    "# illustration of sub-system encoding\n",
    "axsd[0,1].hist2d(np.vstack(dihe)[:,0]*np.pi/180, np.vstack(dihe)[:,3]*np.pi/180,bins=128, norm=mpl.colors.LogNorm(), alpha=0.4)\n",
    "axsd[0,1].vlines(0,-1.5*np.pi,1.5*np.pi,linestyles=':', color='k' )\n",
    "axsd[0,1].hlines(80.*np.pi/180,-1.5*np.pi,1.5*np.pi,linestyles=':', color='k' )\n",
    "axsd[0,1].set_xticks([-np.pi,-np.pi/2,0,np.pi/2,np.pi])\n",
    "axsd[0,1].set_yticks([-np.pi,-np.pi/2,0,np.pi/2,np.pi])\n",
    "axsd[0,1].set_xticklabels([r'$-\\pi$',r'$-\\frac{\\pi}{2}$',\"0\",r'$\\frac{\\pi}{2}$',r'$\\pi$'])\n",
    "axsd[0,1].set_yticklabels([r'$-\\pi$',r'$-\\frac{\\pi}{2}$',\"0\",r'$\\frac{\\pi}{2}$',r'$\\pi$'])\n",
    "axsd[0,1].set_ylabel(r'$\\psi$')\n",
    "axsd[0,1].set_xlabel(r'$\\phi$')\n",
    "axsd[0,1].text(-np.pi/2., -np.pi/2., r\"$1 / 1$\", va='center', ha='center')\n",
    "axsd[0,1].text(np.pi/2., -np.pi/2., r\"$-1 / 1$\", va='center', ha='center')\n",
    "axsd[0,1].text(np.pi/2., np.pi/1.5, r\"$-1 / -1$\", va='center', ha='center')\n",
    "axsd[0,1].text(-np.pi/2., np.pi/1.5, r\"$1 / -1$\", va='center', ha='center')\n",
    "axsd[0,1].set_xlim((-np.pi, np.pi))\n",
    "axsd[0,1].set_ylim((-np.pi, np.pi))\n",
    "\n",
    "\n",
    "\n",
    "#embedding of structure render\n",
    "structure_ax = plt.subplot(gs[1:40, 0:-10])\n",
    "structure_ax.imshow(plt.imread('penta_render_trimmed.png'),interpolation='nearest')\n",
    "structure_ax.axis('off')\n",
    "for a,lbl in zip([axts[0,0], axsd[0,0], axsd[0,1]], ('D', 'B', 'C')):\n",
    "    a.text(-0.5, 1.10, lbl, transform=a.transAxes,\n",
    "      fontsize=12, va='top')\n",
    "\n",
    "for a,lbl in zip([structure_ax], ('A')):\n",
    "    a.text(-0.20, 0.95, lbl, transform=a.transAxes,\n",
    "      fontsize=12, va='top')\n",
    "    \n",
    "\n",
    "\n",
    "#fig.savefig('Fig3_re.pdf', dpi=600)"
   ]
  }
 ],
 "metadata": {
  "kernelspec": {
   "display_name": "Python 3",
   "language": "python",
   "name": "python3"
  },
  "language_info": {
   "codemirror_mode": {
    "name": "ipython",
    "version": 3
   },
   "file_extension": ".py",
   "mimetype": "text/x-python",
   "name": "python",
   "nbconvert_exporter": "python",
   "pygments_lexer": "ipython3",
   "version": "3.6.5"
  }
 },
 "nbformat": 4,
 "nbformat_minor": 2
}
