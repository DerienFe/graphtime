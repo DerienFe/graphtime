{
 "cells": [
  {
   "cell_type": "markdown",
   "metadata": {},
   "source": [
    "## Dynamic graphical model of fast folder BBA\n",
    "Simon Olsson 2018\n",
    "\n",
    "This notebook makes use previously published simulation data ([Lindroff-Larsen et al. 2011](http://science.sciencemag.org/content/334/6055/517)). We do not have the rights to distribute this data but they can be requested directly from DE Shaw Research.\n",
    "\n",
    "Note that the random seed is fixed. The notebook makes extensive use of nested point-estimates (i.e. statistical estimates subject to fluctuations which condition other such values), and can therefore be numerically unstable for some random seeds.\n"
   ]
  },
  {
   "cell_type": "code",
   "execution_count": null,
   "metadata": {},
   "outputs": [],
   "source": [
    "import mdtraj as md\n",
    "%matplotlib inline\n",
    "import matplotlib.pyplot as plt\n",
    "\n",
    "import matplotlib as mpl\n",
    "import numpy as np\n",
    "import pyemma as pe\n",
    "from onedeeIsing import Ising_tmatrix\n",
    "from scipy.spatial import distance_matrix\n",
    "from sklearn.preprocessing import LabelBinarizer\n",
    "from graphtime.markov_random_fields import estimate_dMRF\n",
    "from graphtime.utils import simulate_MSM as generate\n",
    "\n",
    "double_column_width = 6.968\n",
    "single_column_width= 3.307\n",
    "font = {'sans-serif': \"Arial\",\n",
    "        'family': \"sans-serif\",\n",
    "  'size'   : 8}\n",
    "\n",
    "mpl.rc('font', **font)\n",
    "mpl.rcParams['mathtext.fontset'] = 'custom'\n",
    "np.random.seed(313808)"
   ]
  },
  {
   "cell_type": "code",
   "execution_count": null,
   "metadata": {},
   "outputs": [],
   "source": [
    "# Note: \n",
    "# we do not have the rights to distribute these data. \n",
    "# Please inquiry about these directly from DE Shaw Research.\n",
    "# Adjust paths as necessary\n",
    "feat = pe.coordinates.featurizer('../DESRES-Trajectory_1FME-0-protein/1FME-0-protein.pdb')\n",
    "feat.add_backbone_torsions(deg=True)\n",
    "source = pe.coordinates.source([['../DESRES-Trajectory_1FME-0-protein/1FME-0-protein-{:03d}.dcd'.format(i) for i in range(112)],\n",
    "                                ['../DESRES-Trajectory_1FME-1-protein/1FME-1-protein-{:03d}.dcd'.format(i) for i in range(52)]], features=feat)\n",
    "dihe = source.get_output()"
   ]
  },
  {
   "cell_type": "code",
   "execution_count": null,
   "metadata": {},
   "outputs": [],
   "source": [
    "def discr_feats(ftrajs, feat_describe):\n",
    "    discr_trajs = []\n",
    "    for ft in ftrajs:\n",
    "        dftraj = np.zeros(ft.shape, dtype = int)\n",
    "        for i, fstr in enumerate(feat_describe):\n",
    "            ls = fstr.split()\n",
    "            if fstr[:3] == \"PHI\": # split into two states\n",
    "                dftraj[:, i] = (ft[:, i]<0).astype(int)\n",
    "            elif fstr[:3] == \"PSI\": # split in to two states if not n-terminal\n",
    "                if int(ls[-1]) == 1:\n",
    "                    dftraj[:, i] = -1\n",
    "                else:\n",
    "                    dftraj[:, i] = (ft[:, i]<80).astype(int)\n",
    "            elif fstr[:3] == \"CHI\": #split into 3 rotamers\n",
    "                tv = (ft[:, i]+180+60)%360\n",
    "                dftraj[:, i] = (tv>125).astype(int) + (tv>250).astype(int)  \n",
    "        non_n_psi = np.where(dftraj[0, :]>-1)[0]    \n",
    "        discr_trajs.append(dftraj.copy()[:,non_n_psi])\n",
    "    return discr_trajs, [f for i,f in enumerate(feat_describe) if i in non_n_psi]"
   ]
  },
  {
   "cell_type": "code",
   "execution_count": null,
   "metadata": {},
   "outputs": [],
   "source": [
    "dfeats, nlbls = discr_feats(dihe, feat.describe())"
   ]
  },
  {
   "cell_type": "code",
   "execution_count": null,
   "metadata": {},
   "outputs": [],
   "source": [
    "# remap features {0, 1} -> {-1, 1}\n",
    "dfeats_fixed = []\n",
    "for df in dfeats:\n",
    "    _t = df.copy()\n",
    "    _t[np.where(_t==0)] = -1  \n",
    "    dfeats_fixed.append(_t)"
   ]
  },
  {
   "cell_type": "code",
   "execution_count": null,
   "metadata": {},
   "outputs": [],
   "source": [
    "C = 1000./len(dfeats_fixed[0])**0.5\n",
    "logistic_regression_kwargs={'fit_intercept': True, 'penalty': 'l1', 'C': C, \n",
    "                            'tol': 0.0001, 'solver': 'saga'}\n",
    "dmrf_all_data = estimate_dMRF(dfeats_fixed, \n",
    "            lag=300, stride=10, \n",
    "            logistic_regression_kwargs=logistic_regression_kwargs,\n",
    "            Encoder = LabelBinarizer(neg_label = -1, pos_label = 1))"
   ]
  },
  {
   "cell_type": "markdown",
   "metadata": {},
   "source": [
    "### Build MSM\n",
    "TICA dimensionality reduction, clustering and lag-time optimization"
   ]
  },
  {
   "cell_type": "code",
   "execution_count": null,
   "metadata": {},
   "outputs": [],
   "source": [
    "import pyemma as pe"
   ]
  },
  {
   "cell_type": "code",
   "execution_count": null,
   "metadata": {},
   "outputs": [],
   "source": [
    "tica_objs = [pe.coordinates.tica(dfeats_fixed, lag = lag) for lag in [5,10,50,100,200,300,500,900,1500,2000,2500,3000]]"
   ]
  },
  {
   "cell_type": "code",
   "execution_count": null,
   "metadata": {},
   "outputs": [],
   "source": [
    "fig, ax = plt.subplots(ncols = 2, figsize=(8, 3))\n",
    "ax[0].semilogy([to.lag for to in tica_objs], [to.timescales[:10] for to in tica_objs])\n",
    "ax[0].set_xlabel('lag time / steps')\n",
    "ax[0].set_ylabel('implied timescale / steps')\n",
    "ax[1].plot([to.lag for to in tica_objs], [to.ndim for to in tica_objs])\n",
    "ax[1].set_xlabel('lag time / steps')\n",
    "ax[1].set_ylabel('number of dimensions for 95% kinetic variance')\n",
    "fig.tight_layout()\n"
   ]
  },
  {
   "cell_type": "code",
   "execution_count": null,
   "metadata": {},
   "outputs": [],
   "source": [
    "_ = np.argmin([to.ndim for to in tica_objs])"
   ]
  },
  {
   "cell_type": "code",
   "execution_count": null,
   "metadata": {},
   "outputs": [],
   "source": [
    "Y = tica_objs[_].get_output()"
   ]
  },
  {
   "cell_type": "code",
   "execution_count": null,
   "metadata": {},
   "outputs": [],
   "source": [
    "Ys = np.vstack(Y)"
   ]
  },
  {
   "cell_type": "code",
   "execution_count": null,
   "metadata": {},
   "outputs": [],
   "source": [
    "a=plt.hist2d(Ys[:, 0], Ys[:, 1], norm=mpl.colors.LogNorm(), bins=256)#, interpolation='gaussian')"
   ]
  },
  {
   "cell_type": "code",
   "execution_count": null,
   "metadata": {},
   "outputs": [],
   "source": [
    "cluster_obj = pe.coordinates.cluster_kmeans(data = Y, k=384, stride=2)"
   ]
  },
  {
   "cell_type": "code",
   "execution_count": null,
   "metadata": {},
   "outputs": [],
   "source": [
    "its = pe.msm.its([dt[::10] for i,dt in enumerate(cluster_obj.dtrajs) ], lags = [ 5, 10, 20, 30, 50, 70, 90, 100, 120,150,200,250], nits=6, errors='bayes')"
   ]
  },
  {
   "cell_type": "code",
   "execution_count": null,
   "metadata": {},
   "outputs": [],
   "source": [
    "pe.plots.plot_implied_timescales(its, ylog=True)"
   ]
  },
  {
   "cell_type": "code",
   "execution_count": null,
   "metadata": {},
   "outputs": [],
   "source": [
    "msm = pe.msm.bayesian_markov_model([dt[::1] for i,dt in enumerate(cluster_obj.dtrajs) ], lag = 1500)"
   ]
  },
  {
   "cell_type": "code",
   "execution_count": null,
   "metadata": {},
   "outputs": [],
   "source": [
    "ckt = msm.cktest(4)"
   ]
  },
  {
   "cell_type": "code",
   "execution_count": null,
   "metadata": {},
   "outputs": [],
   "source": [
    "pe.plots.plot_cktest(ckt, diag=True)"
   ]
  },
  {
   "cell_type": "code",
   "execution_count": null,
   "metadata": {},
   "outputs": [],
   "source": [
    "HMM = msm.coarse_grain(4)"
   ]
  },
  {
   "cell_type": "code",
   "execution_count": null,
   "metadata": {},
   "outputs": [],
   "source": [
    "\n",
    "inmeta = [[np.where(HMM.metastable_assignments[dt.reshape(-1)]==i)[0] for i in range(HMM.nstates)] for dt in msm.discrete_trajectories_active]\n",
    "\n",
    "Meta_filtered = [[np.where(np.isin(HMM.metastable_assignments[dt.reshape(-1)],[i], invert=True))[0] for i in range(HMM.nstates)] for dt in msm.discrete_trajectories_active]\n",
    "\n",
    "not_in_meta_data = [[[df[t] for t in np.split(mf[i], np.where(np.diff(im[i])>1)[0]) if len(t)>300] for i in range(HMM.nstates)] for df,mf,im in zip(dfeats_fixed, Meta_filtered, inmeta) ]\n",
    "\n",
    "not_in_meta_stacked = [a+b for a,b in zip(*not_in_meta_data)]"
   ]
  },
  {
   "cell_type": "code",
   "execution_count": null,
   "metadata": {},
   "outputs": [],
   "source": [
    "regl_=[2000/np.vstack([2*t-1 for t in not_in_meta_stacked[i]]).shape[0]**0.5 for i in range(4)]\n",
    "regl_"
   ]
  },
  {
   "cell_type": "code",
   "execution_count": null,
   "metadata": {},
   "outputs": [],
   "source": [
    "dMRFs = []\n",
    "\n",
    "for M in range(4):\n",
    "    logistic_regression_kwargs={'fit_intercept': True, 'penalty': 'l1', 'C': regl_[M], \n",
    "                            'tol': 0.0001, 'solver': 'saga'}\n",
    "    dMRFs.append(estimate_dMRF(not_in_meta_stacked[M], \n",
    "                               lag=400, stride=10, Encoder = LabelBinarizer(neg_label=-1, pos_label=1),\n",
    "                          logistic_regression_kwargs=logistic_regression_kwargs\n",
    "                              ))\n"
   ]
  },
  {
   "cell_type": "code",
   "execution_count": null,
   "metadata": {},
   "outputs": [],
   "source": [
    "[len(d.get_active_subsystems()) for d in dMRFs]"
   ]
  },
  {
   "cell_type": "markdown",
   "metadata": {},
   "source": [
    "Visual comparison of $J(\\tau)$ for different sub-sampled data-sets. correlation to estimate on full data-set"
   ]
  },
  {
   "cell_type": "code",
   "execution_count": null,
   "metadata": {},
   "outputs": [],
   "source": [
    "fig,ax=plt.subplots(ncols=4, figsize=(12,10))\n",
    "for M,d in enumerate(dMRFs):\n",
    "    ax[M].imshow(np.hstack([d.get_subsystem_couplings(), d.get_subsystem_biases().reshape(-1,1)] ))\n",
    "fig.tight_layout()\n",
    "#ax[1].imshow(np.hstack([np.vstack(villin_nf_coupl), villin_nf_bias] ))"
   ]
  },
  {
   "cell_type": "code",
   "execution_count": null,
   "metadata": {},
   "outputs": [],
   "source": [
    "fig,ax = plt.subplots(ncols=4, figsize=(10,2))\n",
    "[ax[M].scatter(dMRFs[M].get_subsystem_couplings().ravel(),  dmrf_all_data.get_subsystem_couplings().ravel()) for M in range(4)]\n",
    "[ax[M].set_title(\"MS {}. Ndp {}\".format(M+1, len(np.vstack(not_in_meta_stacked[M]))  )) for M in range(4)]\n",
    "plt.tight_layout()"
   ]
  },
  {
   "cell_type": "markdown",
   "metadata": {},
   "source": [
    "Generate synthetic trajectories"
   ]
  },
  {
   "cell_type": "code",
   "execution_count": null,
   "metadata": {},
   "outputs": [],
   "source": [
    "synthts = [d.simulate(nsteps=100000, start= (np.array(not_in_meta_stacked[M][0][0])) ) for M,d in enumerate(dMRFs)] "
   ]
  },
  {
   "cell_type": "code",
   "execution_count": null,
   "metadata": {},
   "outputs": [],
   "source": [
    "syntht_all_nb = dmrf_all_data.simulate(nsteps=100000, start=dfeats_fixed[0][0])"
   ]
  },
  {
   "cell_type": "code",
   "execution_count": null,
   "metadata": {},
   "outputs": [],
   "source": [
    "syntht_all_nb[syntht_all_nb==-3]=-1"
   ]
  },
  {
   "cell_type": "code",
   "execution_count": null,
   "metadata": {},
   "outputs": [],
   "source": [
    "Y_synth_all_data = tica_objs[_].transform(syntht_all_nb)"
   ]
  },
  {
   "cell_type": "code",
   "execution_count": null,
   "metadata": {},
   "outputs": [],
   "source": [
    "\n",
    "Y_synths = []\n",
    "\n",
    "for s in synthts:\n",
    "    Y_synths.append(np.vstack(tica_objs[9].transform(s)))\n"
   ]
  },
  {
   "cell_type": "code",
   "execution_count": null,
   "metadata": {},
   "outputs": [],
   "source": [
    "fig, axs = plt.subplots(nrows=2, ncols = 3,figsize=(single_column_width,.75*single_column_width), sharex=True, sharey=True)\n",
    "ax = axs.ravel()\n",
    "ax[0].hist2d(Ys[:, 0], Ys[:, 1], bins=128,norm=mpl.colors.LogNorm(),  label=\"all data\")\n",
    "ax[0].set_title('All MD data')\n",
    "ax[0].set_ylabel('TIC2')\n",
    "\n",
    "#ax[-1].hist2d(Y_synth_all_data[:, 0], Y_synth_all_data[:, 1], bins=128,norm=mpl.colors.LogNorm(),  label=\"all data\")\n",
    "#ax[-1].set_title('All MD data')\n",
    "ax[-1].axis('off')#set_ylabel('TIC2')\n",
    "\n",
    "\n",
    "for I,ys in enumerate(Y_synths):\n",
    "    ax[I+1].hist2d(ys[:,0],ys[:,1], bins=128, norm=mpl.colors.LogNorm(), label=\"missing meta {}\".format(I))\n",
    "    #ax[I+1].scatter(cluster_obj.cluster_centers_[HMM.metastable_assignments==I, 0],  cluster_obj.cluster_centers_[HMM.metastable_assignments==I, 1],marker='^', alpha=0.1, color='r')\n",
    "    ax[I+1].set_title('Without {}'.format(I+1))\n",
    "    if I==2:\n",
    "        ax[I+1].set_ylabel('TIC2')\n",
    "    if I>1:\n",
    "        ax[I+1].set_xlabel('TIC1')\n",
    "fig.tight_layout()\n",
    "plt.savefig('_tica_leave_one_out_bba.pdf', dpi=300)"
   ]
  },
  {
   "cell_type": "code",
   "execution_count": null,
   "metadata": {},
   "outputs": [],
   "source": [
    "#pe.coordinates.save_trajs(source, HMM.sample_by_observation_probabilities(10), \"BBA_HMM_\", fmt=\"pdb\")"
   ]
  },
  {
   "cell_type": "code",
   "execution_count": null,
   "metadata": {},
   "outputs": [],
   "source": [
    "dtraj_Y_synth_all = cluster_obj.transform(Y_synth_all_data)\n"
   ]
  },
  {
   "cell_type": "code",
   "execution_count": null,
   "metadata": {},
   "outputs": [],
   "source": [
    "mrfmsm = pe.msm.estimate_markov_model(dtrajs=dtraj_Y_synth_all.reshape(-1), lag=1)"
   ]
  },
  {
   "cell_type": "code",
   "execution_count": null,
   "metadata": {},
   "outputs": [],
   "source": [
    "dtraj_synths = cluster_obj.transform(Y_synths)\n",
    "dtraj_synths_all = cluster_obj.transform(Y_synth_all_data)"
   ]
  },
  {
   "cell_type": "code",
   "execution_count": null,
   "metadata": {},
   "outputs": [],
   "source": [
    "from mpl_toolkits.axes_grid1 import make_axes_locatable\n",
    "def _colorbar(mappable):\n",
    "    ax = mappable.axes\n",
    "    fig = ax.figure\n",
    "    divider = make_axes_locatable(ax)\n",
    "    cax = divider.append_axes(\"right\", size=\"5%\", pad=0.05)\n",
    "    return fig.colorbar(mappable, cax=cax)"
   ]
  },
  {
   "cell_type": "code",
   "execution_count": null,
   "metadata": {},
   "outputs": [],
   "source": [
    "for i in range(5):\n",
    "    print(\"set_color color{}=\".format(i) + str(list(mpl.colors.to_rgb(cmap(i)))))"
   ]
  },
  {
   "cell_type": "code",
   "execution_count": null,
   "metadata": {},
   "outputs": [],
   "source": [
    "yy_=[(syntht[:,np.argsort(syntht.var(axis=0))[:]][np.where(HMM.metastable_assignments[ye[::1]]==3)[0],:].mean(axis=0)+1)/2 for syntht,ye in zip(synthts, dtraj_synths)]\n",
    "xx_=dfeats_fixed[0][np.where(HMM.metastable_assignments[cluster_obj.dtrajs[0][:]]==3)[0],:].mean(axis=0)[:]"
   ]
  },
  {
   "cell_type": "code",
   "execution_count": null,
   "metadata": {},
   "outputs": [],
   "source": [
    "import matplotlib.gridspec as gridspec\n",
    "from scipy.stats import spearmanr\n",
    "from itertools import product\n",
    "\n",
    "fig = plt.figure(figsize=(double_column_width/1.3,double_column_width*1.1))\n",
    "\n",
    "gs = gridspec.GridSpec(143, 100, left=0.097,bottom=0.02,top=0.98,right=0.999)#, wspace=None, hspace=None)\n",
    "ax = plt.subplot(gs[5:23, 2:22])\n",
    "ax2 = plt.subplot(gs[5:23, 34:55])\n",
    "ax3 = plt.subplot(gs[5:23, 70:78])\n",
    "ls = []\n",
    "for i in range(HMM.nstates): \n",
    "    ax2.scatter(np.vstack(synthts[i]).var(axis=0), (np.vstack([df[::300] for df in dfeats_fixed])).var(axis=0), s=5, label=\"Without state {:d}\".format(i+1))\n",
    "    l = ax.scatter(np.vstack(synthts[i]).mean(axis=0), (np.vstack([df[::300] for df in dfeats_fixed])).mean(axis=0), s=5, label=\"Without state {:d}\".format(i+1))\n",
    "    ls.append(l)\n",
    "ax.set_xlabel('DGM Mean feature')\n",
    "ax2.set_xlabel('DGM Variance of feature ')\n",
    "\n",
    "ax.set_ylabel('MD Mean feature')\n",
    "ax2.set_ylabel('MD Variance of feature')\n",
    "\n",
    "ax3.axis('off')\n",
    "ax3.legend(ls, [\"Without state {:d}\".format(i+1) for i in range(5)], fontsize=9, loc=(-0.20,0.0))\n",
    "#plt.tight_layout()\n",
    "\n",
    "#fig, ax = plt.subplots(nrows=5, ncols=5, sharey=True, sharex=True, figsize=(10,10))\n",
    "ax_ = np.array([[plt.subplot(gs[40+23*(j)+2*j:40+23*(j+1)+j*2, 23*(i)+2*i:23*(i+1)+2*i]) for i in range(HMM.nstates)] for j in range(HMM.nstates)])\n",
    "\n",
    "axf = ax_.flatten()\n",
    "\n",
    "ax.text(-.35, 1.30, \"A\", transform=ax.transAxes,\n",
    "          fontsize=12,  va='top')\n",
    "\n",
    "ax2.text(-.35, 1.30, \"B\", transform=ax2.transAxes,\n",
    "          fontsize=12,  va='top')\n",
    "i=0\n",
    "axf[i].text(-.35, 1.30, \"C\", transform=axf[i].transAxes,\n",
    "          fontsize=12, va='top')\n",
    "for j in range(HMM.nstates):\n",
    "    for syntht,ye in zip(synthts, dtraj_synths):\n",
    "        yy_=syntht[np.where(HMM.metastable_assignments[ye[::1]]==j)[0],:].mean(axis=0)\n",
    "        xx_=np.vstack(dfeats_fixed)[np.where(HMM.metastable_assignments[np.concatenate(cluster_obj.dtrajs)[:]]==j)[0],:].mean(axis=0)\n",
    "        axf[i].scatter(xx_, yy_,s=5, color=\"C{:d}\".format(j))\n",
    "    \n",
    "        axf[i].text(0.05, 0.95, r\"$\\rho={:0.2f}$\".format(np.corrcoef(xx_,yy_)[0,1]), transform=axf[i].transAxes,\n",
    "          fontsize=9, va='top')\n",
    "\n",
    "        axf[i].set_xlim((-1,1))\n",
    "        axf[i].set_ylim((-1,1))\n",
    "        \n",
    "        #axf[i].text(xx_.min(), yy_.max()-0.1,)\n",
    "        if i<4:\n",
    "            axf[i].set_title('State {}'.format(i+1), fontsize = 10)\n",
    "        \n",
    "        if i%4==0: \n",
    "            #axf[i].set_ylabel('Empirical mean feature')\n",
    "            if i==10:\n",
    "                axf[i].set_ylabel('MD Mean feature')\n",
    "        else:\n",
    "            axf[i].set_yticklabels([])\n",
    "            axf[i].set_yticks([])\n",
    "        \n",
    "        if i>11:\n",
    "            #axf[i].set_xlabel('MRF mean feature')\n",
    "            if i==22:\n",
    "                axf[i].set_xlabel('DGM Mean feature')\n",
    "        else:\n",
    "            axf[i].set_xticklabels([])\n",
    "            axf[i].set_xticks([])\n",
    "\n",
    "        \n",
    "        if i%HMM.nstates==j:\n",
    "            axf[i].set_facecolor((0.85,0.85,0.85))\n",
    "        i=i+1\n",
    "fig.text(0,0.42 ,'MD Mean feature' , rotation=90)\n",
    "fig.text(0.47,0.01 ,'DGM Mean feature' , rotation=0)\n",
    "\n",
    "#axf[-1].axis('off')\n",
    "#gs.tight_layout(fig, pad=-0.5)\n",
    "plt.savefig('feature_scatter_BBA.pdf')"
   ]
  },
  {
   "cell_type": "code",
   "execution_count": null,
   "metadata": {},
   "outputs": [],
   "source": [
    "from scipy import spatial"
   ]
  },
  {
   "cell_type": "code",
   "execution_count": null,
   "metadata": {},
   "outputs": [],
   "source": [
    "from scipy import spatial\n",
    "def mrftraj_to_dtraj(mrftraj, ftrajs, transformer = lambda x:0.5*(x+1)):\n",
    "    dtraj_out = []\n",
    "    errors = []\n",
    "    ftrajl = np.cumsum([0]+[len(d) for d in ftrajs])\n",
    "    ftraj = np.vstack(ftrajs)\n",
    "    for m in mrftraj:\n",
    "        pair_contacts = spatial.distance.cdist(transformer(m).reshape(1,-1), ftraj, metric='hamming').reshape(-1)\n",
    "        idx = np.argmin(pair_contacts)\n",
    "        tidx = max((ftrajl<idx).sum()-1, 0)\n",
    "        dtraj_out.append([tidx, idx - ftrajl[tidx] ])\n",
    "        errors.append(pair_contacts[idx])\n",
    "        \n",
    "    return dtraj_out, errors"
   ]
  },
  {
   "cell_type": "code",
   "execution_count": null,
   "metadata": {},
   "outputs": [],
   "source": [
    "resampledtraj,errors = mrftraj_to_dtraj(syntht_all_nb[:1000], dfeats_fixed, transformer=lambda x:x)"
   ]
  },
  {
   "cell_type": "code",
   "execution_count": null,
   "metadata": {},
   "outputs": [],
   "source": [
    "rtrajs = []\n",
    "errs = []\n",
    "for i in range(HMM.nstates):\n",
    "    _resampledtraj,_errors = mrftraj_to_dtraj(synthts[i][:1000], dfeats_fixed, transformer=lambda x:x)\n",
    "    rtrajs.append(_resampledtraj)\n",
    "    errs.append(_errors)\n",
    "    pe.coordinates.save_traj(source, np.array(_resampledtraj, dtype=int), \"Resampled_bba_without_{}.pdb\".format(i))"
   ]
  },
  {
   "cell_type": "code",
   "execution_count": null,
   "metadata": {},
   "outputs": [],
   "source": [
    "resampledtraj,errors = mrftraj_to_dtraj(syntht_all_nb[:1000], dfeats_fixed, transformer=lambda x:x)"
   ]
  },
  {
   "cell_type": "code",
   "execution_count": null,
   "metadata": {},
   "outputs": [],
   "source": [
    "pe.coordinates.save_traj(source, np.vstack((np.zeros((1,1000)) ,resampledtraj)).T.astype(int), \"bba_subsampled.pdb\")"
   ]
  },
  {
   "cell_type": "markdown",
   "metadata": {},
   "source": [
    "export data"
   ]
  },
  {
   "cell_type": "code",
   "execution_count": null,
   "metadata": {},
   "outputs": [],
   "source": [
    "np.savez(\"resmtraj3_bba.npz\", **{'data': np.array([dfeats_fixed[a][f, :] for a,f in np.array(rtrajs[3])])})\n",
    "\n",
    "np.savez(\"state_assign_resmtraj_3_bba.npz\", **{'data': HMM.metastable_assignments[cluster_obj.transform(tica_objs[9].transform(np.array([dfeats_fixed[a][f, :] for a,f in np.array(rtrajs[3])]))).reshape(-1)]} )\n",
    "\n",
    "np.savez(\"recerr_resmtraj_3_bba.npz\", **{'data': errs[3]} )"
   ]
  },
  {
   "cell_type": "code",
   "execution_count": null,
   "metadata": {},
   "outputs": [],
   "source": [
    "sub_sys = 30\n",
    "meanfree_synthtrajs = [synthts[i][:2094,sub_sys]-(synthts[i][:2094,sub_sys]).mean(axis=0) for i in range(HMM.nstates)]\n",
    "meanfree_MD = [df[::400,sub_sys]-np.vstack(dfeats_fixed)[::400,sub_sys].mean(axis=0) for df in dfeats_fixed]"
   ]
  },
  {
   "cell_type": "code",
   "execution_count": null,
   "metadata": {},
   "outputs": [],
   "source": [
    "plt.semilogx(np.arange(1,len(meanfree_MD[1])+1    ), np.correlate(meanfree_MD[1],meanfree_MD[1],mode='full')[len(meanfree_MD[1])-1:])\n",
    "print(np.correlate(meanfree_MD[1],meanfree_MD[1]))"
   ]
  },
  {
   "cell_type": "code",
   "execution_count": null,
   "metadata": {},
   "outputs": [],
   "source": [
    "mfl=[len(mf) for mf in meanfree_MD]"
   ]
  },
  {
   "cell_type": "code",
   "execution_count": null,
   "metadata": {},
   "outputs": [],
   "source": [
    "def func(x, a, b, c):\n",
    "    return a * np.exp(-b * x) + c"
   ]
  },
  {
   "cell_type": "code",
   "execution_count": null,
   "metadata": {},
   "outputs": [],
   "source": [
    "from scipy.optimize import curve_fit"
   ]
  },
  {
   "cell_type": "code",
   "execution_count": null,
   "metadata": {},
   "outputs": [],
   "source": [
    "for i in range(4):\n",
    "    popt, pcov = curve_fit(func, np.arange(1,500)*60/1000., np.correlate(meanfree_synthtrajs[i][:500],meanfree_synthtrajs[i][:500], mode='full')[500:])\n",
    "    print(\"relaxation rate {:0.3f} for without state {:d}\".format(popt[1],i+1))\n",
    "\n",
    "popt, pcov = curve_fit(func, np.arange(1,501)*60./1000., np.mean([np.correlate(mf,mf,mode='full')[l:][:min(mfl)-1] for mf,l in zip(meanfree_MD,mfl)], axis=0)[:500])\n",
    "print(\"relaxation rate MD\", popt[1])    \n"
   ]
  },
  {
   "cell_type": "code",
   "execution_count": null,
   "metadata": {
    "scrolled": true
   },
   "outputs": [],
   "source": [
    "from itertools import product\n",
    "fig = plt.figure(figsize=(single_column_width,1.8*1.75*single_column_width/2))\n",
    "\n",
    "gs = gridspec.GridSpec(180, 90,left=0.16,bottom=0.05,top=0.95,right=0.95, wspace=0.0, hspace=0.)#, width_ratios=1, height_ratios=1)\n",
    "axs = [plt.subplot(gs[30*(i)+15:30*(i+1)+15, 3+29*(j):3+29*(j+1)]) for i,j in product(range(1), range(3))]\n",
    "axs.append(plt.subplot(gs[30*(1)+15:30*(1+1)+15, 3+29*(0):3+29*(0+1)]))\n",
    "\n",
    "\n",
    "axs.append(plt.subplot(gs[:15, :]))\n",
    "#gs.update(hspace=0, wspace=0)\n",
    "\n",
    "ax_ylbl = plt.subplot(gs[30:,:3])\n",
    "ax_ylbl.set_ylabel(r'$p(x)$ (log-scale)')\n",
    "ylbl=ax_ylbl.axes.yaxis.get_label()\n",
    "fig.text(ylbl.get_position()[0]+0.05,1.5*ylbl.get_position()[1]+0.09*2/3 , ylbl.get_text(), rotation=90)\n",
    "\n",
    "\n",
    "\n",
    "ax_ylbl.axis('off')\n",
    "\n",
    "\n",
    "ls = []\n",
    "for i, ax in enumerate(axs):\n",
    "    ax.set_ylim((2e-4,2.0))\n",
    "    if i>3:\n",
    "        ax.axis('off')\n",
    "    if i==4:\n",
    "        ax.legend([l, l2, l3], [\"dMRF\", \"HMM (full MD)\", \"State left out during estimation\"], fontsize=8, loc=(0.27,0.2))\n",
    "        ax.set_yticks([])\n",
    "        ax.set_xticks([])\n",
    "        ax.axis('off')\n",
    "        \n",
    "    else:\n",
    "        ising_msm = pe.msm.estimate_markov_model(HMM.metastable_assignments[dtraj_synths[i].reshape(-1)], lag=1)\n",
    "        l = ax.bar(range(1,5), ising_msm.stationary_distribution,hatch=\"//\", fill=False, label=\"Ising\")\n",
    "        np.savetxt('bba_hist_dmrf{:}.txt'.format(i), ising_msm.stationary_distribution)\n",
    "        ls.append(l)\n",
    "        l2 = ax.bar(range(1,5), HMM.stationary_distribution,fill=True, alpha=0.2, log=True, label=\"HMM (full MD)\")\n",
    "        ls.append(l2)\n",
    "        l3 = ax.scatter([i+1], 0.5, marker=\"*\", s=50, color='purple')\n",
    "\n",
    "        if i>0:\n",
    "            ax.set_xticks([1,2,3,4])\n",
    "            if i>2:\n",
    "                ax.set_xlabel(r'Meta-stable state / $x$')\n",
    "\n",
    "        else:\n",
    "            ax.set_xticks([])\n",
    "\n",
    "        if i in [0, 3]:\n",
    "            continue\n",
    "            #ax.set_ylabel('State prob (log-scale)')\n",
    "        else:\n",
    "            ax.set_yticks([])\n",
    "np.savetxt('bba_hist_hmm.txt', HMM.stationary_distribution)\n",
    "\n",
    "fig.text(0.58,0.65, r\"Meta-stable state / $x$\", rotation=0)\n",
    "\n",
    "            \n",
    "axs2 = [plt.subplot(gs[105:145, 35*i+20*i:35*(i+1)+20*i]) for i in range(2) ]\n",
    "\n",
    "bins = np.unique(np.concatenate(errs))\n",
    "for i, err in enumerate(errs):\n",
    "    axs2[0].hist(err, bins=bins, label = \"Without state {:d}\".format(i+1), histtype='step', lw=1, normed=True, log=False)\n",
    "axs2[0].set_xlabel(r'$\\epsilon $')\n",
    "axs2[0].set_ylabel(r'$p(\\epsilon)$')\n",
    "\n",
    "for i in range(HMM.nstates):\n",
    "    a_ = np.correlate(meanfree_synthtrajs[i][:2094],meanfree_synthtrajs[i][:2094], mode='full')[2094:]\n",
    "    axs2[1].plot(np.arange(1,2094)*60./1000.,a_/a_[0], lw=1, label=\"Without state {:d}\".format(i+1) )\n",
    "#axs2[-1].axis('off')\n",
    "a_ = np.mean([np.correlate(mf,mf,mode='full')[l:][:min(mfl)-1] for mf,l in zip(meanfree_MD,mfl)], axis=0)\n",
    "axs2[1].plot(np.arange(1,1277)*60./1000.,a_/a_[0],lw=1, label=\"MD\", color='k')\n",
    "axs2[1].set_xlabel(r'$\\tau$ / $\\mu$s')\n",
    "\n",
    "axs2[1].set_ylabel(r'$C(\\tau)$ / Glu 17 $\\phi$ rotamer')\n",
    "axs2[1].semilogx()\n",
    "axs2[1].set_xlim((axs2[1].get_xlim()[0],100))\n",
    "ax3 = plt.subplot(gs[165:, :])\n",
    "ax3.legend([child for child in axs2[1].get_children() if isinstance(child, mpl.lines.Line2D)],\n",
    "                 [child.get_label() for child in axs2[1].get_children() if isinstance(child, mpl.lines.Line2D)]\n",
    "                 ,loc=(0.0,-0.4), ncol=2)#axs2[0].legend()\n",
    "ax3.axis('off')\n",
    "axs[0].text(-.35, 1.30, \"A\", transform=axs[0].transAxes,\n",
    "          fontsize=12,  va='top')\n",
    "axs2[0].text(-.35, 1.30, \"B\", transform=axs2[0].transAxes,\n",
    "          fontsize=12,  va='top')\n",
    "axs2[1].text(-.35, 1.30, \"C\", transform=axs2[1].transAxes,\n",
    "          fontsize=12,  va='top')\n",
    "#gs.tight_layout(fig,pad=-1.5)\n",
    "plt.savefig('statdist_err_acf_bba.pdf')"
   ]
  },
  {
   "cell_type": "markdown",
   "metadata": {},
   "source": [
    "Data exports for plotting"
   ]
  },
  {
   "cell_type": "code",
   "execution_count": null,
   "metadata": {},
   "outputs": [],
   "source": [
    "np.savetxt('bba_errs.txt', errs)\n",
    "\n",
    "np.savetxt('bba_synthtrajs.txt', meanfree_synthtrajs)\n",
    "\n",
    "np.savetxt('bba_syntht_all.txt', dtraj_synths_all.reshape(-1))\n",
    "\n",
    "HMM.save('bba_hmm.pyemma', overwrite=True)\n",
    "\n",
    "a_ = np.mean([np.correlate(mf,mf,mode='full')[l:][:min(mfl)-1] for mf,l in zip(meanfree_MD,mfl)], axis=0)\n",
    "\n",
    "np.savetxt('bba_md_acf.txt', a_)"
   ]
  },
  {
   "cell_type": "code",
   "execution_count": null,
   "metadata": {},
   "outputs": [],
   "source": [
    "\n",
    "tica_dmrfs = [pe.coordinates.tica(data=[(syntht_all_nb+1)/2], lag=lag) for  lag in [1,2,3,4,5]]\n",
    "\n",
    "fig, ax = plt.subplots(ncols = 2, figsize=(8, 3))\n",
    "ax[0].semilogy([to.lag for to in tica_dmrfs], [to.timescales[:10] for to in tica_dmrfs])\n",
    "ax[0].set_xlabel('lag time / steps')\n",
    "ax[0].set_ylabel('implied timescale / steps')\n",
    "ax[1].plot([to.lag for to in tica_dmrfs], [to.ndim for to in tica_dmrfs])\n",
    "ax[1].set_xlabel('lag time / steps')\n",
    "ax[1].set_ylabel('number of dimensions for 95% kinetic variance')\n",
    "fig.tight_layout()\n",
    "\n",
    "\n",
    "hva_saa=tica_dmrfs[1].get_output()\n",
    "\n",
    "a=plt.hist2d(hva_saa[0][:,0],hva_saa[0][:,1], norm=mpl.colors.LogNorm(), bins=256)#, interpolation='gaussian')\n",
    "\n",
    "\n",
    "cluster_dmrf = pe.coordinates.cluster_kmeans(hva_saa, 1024, stride=10)\n",
    "\n",
    "dmrf_msm = pe.msm.estimate_markov_model(cluster_dmrf.dtrajs, lag=1)\n",
    "\n"
   ]
  },
  {
   "cell_type": "code",
   "execution_count": null,
   "metadata": {},
   "outputs": [],
   "source": []
  },
  {
   "cell_type": "code",
   "execution_count": null,
   "metadata": {},
   "outputs": [],
   "source": [
    "plt.semilogy(dmrf_msm.timescales()[:15],'o')"
   ]
  },
  {
   "cell_type": "code",
   "execution_count": null,
   "metadata": {},
   "outputs": [],
   "source": [
    "dmrf_hmm_ts = pe.msm.timescales_hmsm(cluster_dmrf.dtrajs, nstates=4, lags=[1,2,3,4],errors='bayes')\n",
    "dmrf_hmm_ = dmrf_hmm_ts.models[0]"
   ]
  },
  {
   "cell_type": "code",
   "execution_count": null,
   "metadata": {},
   "outputs": [],
   "source": [
    "HMM_blinded_dmrfs=[]\n",
    "msm_blinded_msms=[]\n",
    "__nstates=[4,3,3,3]\n",
    "for k in range(4):\n",
    "    tica_dmrfs = [pe.coordinates.tica(data=[(synthts[k]+1)/2], lag=lag) for  lag in [1,2,3,4,5]]\n",
    "\n",
    "    fig, ax = plt.subplots(ncols = 2, figsize=(8, 3))\n",
    "    ax[0].semilogy([to.lag for to in tica_dmrfs], [to.timescales[:10] for to in tica_dmrfs])\n",
    "    ax[0].set_xlabel('lag time / steps')\n",
    "    ax[0].set_ylabel('implied timescale / steps')\n",
    "    ax[1].plot([to.lag for to in tica_dmrfs], [to.ndim for to in tica_dmrfs])\n",
    "    ax[1].set_xlabel('TIC1')\n",
    "    ax[1].set_ylabel('TIC2')\n",
    "    fig.tight_layout()\n",
    "\n",
    "\n",
    "    hva_saa=tica_dmrfs[1].get_output()\n",
    "\n",
    "    a=plt.hist2d(hva_saa[0][:,0],hva_saa[0][:,1], norm=mpl.colors.LogNorm(), bins=256)#, interpolation='gaussian')\n",
    "\n",
    "\n",
    "    cluster_dmrf = pe.coordinates.cluster_kmeans(hva_saa, 384, stride=10)\n",
    "    #msm_blinded_msms.append(pe.msm.estimate_markov_model([dt.reshape(-1) for dt in cluster_dmrf.get_output()], lag=1))\n",
    "    HMM_blinded_dmrfs.append(pe.msm.bayesian_hidden_markov_model([dt.reshape(-1) for dt in cluster_dmrf.get_output()], __nstates[k], lag=1))\n",
    "    "
   ]
  },
  {
   "cell_type": "code",
   "execution_count": null,
   "metadata": {},
   "outputs": [],
   "source": [
    "from itertools import product\n",
    "from matplotlib import gridspec"
   ]
  },
  {
   "cell_type": "code",
   "execution_count": null,
   "metadata": {},
   "outputs": [],
   "source": [
    "mfpt_mats=[np.zeros((4,4))]+[np.zeros((a,a)) for i,a in enumerate(__nstates)]\n",
    "#mfpt_mats.append()\n",
    "for k in range(4):\n",
    "    for i,j in product(range(__nstates[k]), repeat=2):\n",
    "        #try:\n",
    "            mfpt_mats[k+1][i,j] = 0.2*0.4*HMM_blinded_dmrfs[k].mfpt(i,j)\n",
    "        #except:\n",
    "        #    print(k,i,j)\n",
    "for i,j in product(range(4), repeat=2):\n",
    "    mfpt_mats[0][i,j] = 0.2*dmrf_hmm_.mfpt(i,j)*1e-3"
   ]
  },
  {
   "cell_type": "code",
   "execution_count": null,
   "metadata": {},
   "outputs": [],
   "source": [
    "dmrf_lifetimes=[]\n",
    "dmrf_lifetimes.append([1.5*0.2*dmrf_hmm_.mfpt([j],[i for i in range(dmrf_hmm_.nstates) if i!=j]) for j in range(dmrf_hmm_.nstates)])\n",
    "for k in range(4):\n",
    "    dmrf_lifetimes.append([1.5*0.2*HMM_blinded_dmrfs[k].mfpt([j],[i for i in range(HMM_blinded_dmrfs[k].nstates) if i!=j]) for j in range(HMM_blinded_dmrfs[k].nstates)])\n",
    "    #for i,j in product(range(__nstates[k]), repeat=2):\n",
    "    #    mfpt_mats[k+1][i,j] = 0.3*HMM_blinded_dmrfs[k].mfpt(i,j)*0.2\n",
    "    #for i,j in product(range(5), repeat=2):\n",
    "    #mfpt_mats[0][i,j] = 0.3*dmrf_hmm_.mfpt(i,j)*0.2"
   ]
  },
  {
   "cell_type": "code",
   "execution_count": null,
   "metadata": {},
   "outputs": [],
   "source": [
    "lifetimes_hmm = [1.5*1e-3*0.2*HMM.mfpt([j],[i for i in range(HMM.nstates) if i!=j]) for j in range(HMM.nstates)]"
   ]
  },
  {
   "cell_type": "code",
   "execution_count": null,
   "metadata": {},
   "outputs": [],
   "source": [
    "hmm_mfpts = np.zeros((HMM.nstates,HMM.nstates))\n",
    "for i,j in product(range(HMM.nstates), repeat=2):\n",
    "    hmm_mfpts[i,j] = 0.2*HMM.mfpt(i,j)*1.5*1e-3"
   ]
  },
  {
   "cell_type": "code",
   "execution_count": null,
   "metadata": {},
   "outputs": [],
   "source": [
    "from scipy.optimize import linear_sum_assignment"
   ]
  },
  {
   "cell_type": "code",
   "execution_count": null,
   "metadata": {},
   "outputs": [],
   "source": [
    "fig = plt.figure(figsize=(single_column_width*1.3, 1.3*double_column_width*2./3))\n",
    "from matplotlib import patheffects\n",
    "gs = gridspec.GridSpec(160, 120, left=0.15,bottom=0.08,top=0.95,right=0.90)#, wspace=None, hspace=None)\n",
    "ax_feats = [plt.subplot(gs[35*(i):35*(i+1), 40*(j):40*(j+1)]) for i,j in product(range(2), range(3))]\n",
    "ax_lifetimes = [plt.subplot(gs[35*(i)+90:35*(i+1)+90, 40*(j):40*(j+1)]) for i,j in product(range(2), range(3))]\n",
    "\n",
    "\n",
    "for k,_dmrf_hmm in enumerate(HMM_blinded_dmrfs):\n",
    "    HMM_MD_configurations = np.array([dfeats_fixed[0][np.where(HMM.metastable_assignments[cluster_obj.dtrajs[0][:]]==j)[0],:].mean(axis=0) for j in range(HMM.nstates)]).T\n",
    "\n",
    "    HMM_dMRF_configurations= np.array([synthts[k][_dmrf_hmm.hidden_state_trajectories[0]==i].mean(axis=0) for i in range(_dmrf_hmm.nstates)]).T\n",
    "    correlates_ = np.zeros((HMM.nstates,_dmrf_hmm.nstates))\n",
    "    for i,j in product(range(HMM.nstates), range(_dmrf_hmm.nstates)):\n",
    "        correlates_[i, j] = np.std(HMM_MD_configurations[:,i]-HMM_dMRF_configurations[:,j])/np.std(HMM_MD_configurations[:,i])\n",
    "    \n",
    "    cax = np.array(ax_feats).ravel()[k]\n",
    "    cax2 = np.array(ax_lifetimes).ravel()[k]\n",
    "\n",
    "    if k<1:\n",
    "        cax.set_xticks([])\n",
    "        cax2.set_xticks([])\n",
    "    else:\n",
    "        cax2.set_xlabel('Metastable state')\n",
    "        cax2.set_xticks(range(1,6))\n",
    "        cax.set_xlabel('Avg. MD feature')\n",
    "    if k in [1,2,4]:\n",
    "        cax.set_yticks([])\n",
    "        cax2.set_yticks([])\n",
    "    else:\n",
    "        cax.set_ylabel('Avg. DGM feature')\n",
    "        cax2.set_ylabel(r'lifetime / $\\mu s$')\n",
    "\n",
    "        \n",
    "    for i,j in zip(*linear_sum_assignment(correlates_)):\n",
    "            cax.scatter(HMM_MD_configurations[:,i], HMM_dMRF_configurations[:,j], s=1, color=f'C{i}')\n",
    "            t=cax.text(-1,0.8-0.3*i, r'$\\rho=%.2f$'%(np.corrcoef(HMM_MD_configurations[:,i], HMM_dMRF_configurations[:,j])[0,1]), color=f'C{i}')\n",
    "            t.set_path_effects([patheffects.Stroke(linewidth=0.5, foreground='black'),\n",
    "                       patheffects.Normal()])\n",
    "            cax2.bar(i+1, dmrf_lifetimes[k+1][j], log=False, color=f'C{i}')\n",
    "            #cax2.set_ylim([0,0.9])\n",
    "    cax.set_xlim([-1.1,1.1])\n",
    "    cax.set_ylim([-1.1,1.1])\n",
    "    cax.text(0,-1, f\"Without {k+1}\", va='center',ha='center')\n",
    "    cax2.text(2.5,10.5, f\"Without {k+1}\", va='top',ha='center')\n",
    "    cax2.scatter(range(1,5),lifetimes_hmm,s=15,color='C7', zorder=10, marker=\"*\",lw=0.1,edgecolors='k')\n",
    "    cax2.set_xlim(0.5,4.5)\n",
    "    cax2.set_ylim(0,11)\n",
    "    if k in [1,2,4]:\n",
    "        cax2.set_yticks([])\n",
    "        cax2.set_yticklabels([])    \n",
    "    \n",
    "    \n",
    "np.array(ax_feats)[-1].axis('off')\n",
    "np.array(ax_lifetimes)[-1].axis('off')\n",
    "np.array(ax_feats)[-2].axis('off')\n",
    "np.array(ax_lifetimes)[-2].axis('off')\n",
    "np.array(ax_lifetimes)[-3].set_xticks([1,2,3,4])\n",
    "np.array(ax_lifetimes)[-3].set_xlim(np.array(ax_lifetimes)[0].get_xlim())\n",
    "\n",
    "ax_feats[0].text(-.35, 1.15, \"C\", transform=ax_feats[0].transAxes,\n",
    "          fontsize=12,  va='top')\n",
    "\n",
    "ax_lifetimes[0].text(-.35, 1.15, \"D\", transform=ax_lifetimes[0].transAxes,\n",
    "          fontsize=12,  va='top')\n",
    "\n",
    "#gs.tight_layout(fig)\n",
    "fig.savefig('BBA_DGM_METASTABLE.pdf')\n"
   ]
  }
 ],
 "metadata": {
  "kernelspec": {
   "display_name": "Python 3",
   "language": "python",
   "name": "python3"
  },
  "language_info": {
   "codemirror_mode": {
    "name": "ipython",
    "version": 3
   },
   "file_extension": ".py",
   "mimetype": "text/x-python",
   "name": "python",
   "nbconvert_exporter": "python",
   "pygments_lexer": "ipython3",
   "version": "3.6.5"
  }
 },
 "nbformat": 4,
 "nbformat_minor": 2
}
